{
 "cells": [
  {
   "cell_type": "markdown",
   "metadata": {},
   "source": [
    "# Module 4 Project: Using Jupyter Notebooks\n",
    " Name: Luci McDaniel \n",
    " GitHUb: https://github.com/LuciMcD\n",
    " Repo: https://github.com/LuciMcD/datafun-04-notebooks"
   ]
  },
  {
   "cell_type": "markdown",
   "metadata": {},
   "source": [
    "## Task 1 - Series"
   ]
  },
  {
   "cell_type": "code",
   "execution_count": 13,
   "metadata": {},
   "outputs": [
    {
     "name": "stdout",
     "output_type": "stream",
     "text": [
      "0     87\n",
      "1    100\n",
      "2     94\n",
      "dtype: int64\n",
      "\n",
      "87\n",
      "\n",
      "3\n",
      "93.66666666666667\n",
      "87\n",
      "100\n",
      "6.506407098647712\n",
      "\n",
      "count      3.000000\n",
      "mean      93.666667\n",
      "std        6.506407\n",
      "min       87.000000\n",
      "25%       90.500000\n",
      "50%       94.000000\n",
      "75%       97.000000\n",
      "max      100.000000\n",
      "dtype: float64\n"
     ]
    }
   ],
   "source": [
    "import pandas as pd\n",
    "grades = pd.Series([87, 100, 94])\n",
    "print(grades)\n",
    "print()\n",
    "index = grades[0]\n",
    "print(index)\n",
    "print()\n",
    "count = grades.count()\n",
    "print(count)\n",
    "mean = grades.mean()\n",
    "print(mean)\n",
    "min = grades.min()\n",
    "print(min)\n",
    "max = grades.max()\n",
    "print(max)\n",
    "std = grades.std()\n",
    "print(std)\n",
    "print()\n",
    "describe = grades.describe()\n",
    "print(describe)\n"
   ]
  },
  {
   "cell_type": "markdown",
   "metadata": {},
   "source": [
    "## Task 2 - Series from Dictionary"
   ]
  },
  {
   "cell_type": "code",
   "execution_count": 10,
   "metadata": {},
   "outputs": [
    {
     "name": "stdout",
     "output_type": "stream",
     "text": [
      "100\n",
      "87\n",
      "[ 87 100  94]\n"
     ]
    }
   ],
   "source": [
    "grades = pd.Series({'Wally': 87, 'Eva': 100, 'Sam': 94})\n",
    "\n",
    "Evas = grades['Eva']\n",
    "print(Evas)\n",
    "\n",
    "Wally = grades.Wally\n",
    "print(Wally)\n",
    "\n",
    "value1 = grades.values\n",
    "print(value1)\n"
   ]
  },
  {
   "cell_type": "markdown",
   "metadata": {},
   "source": [
    "## Self Check pg 266"
   ]
  },
  {
   "cell_type": "code",
   "execution_count": 8,
   "metadata": {},
   "outputs": [
    {
     "name": "stdout",
     "output_type": "stream",
     "text": [
      "0    85\n",
      "1    64\n",
      "2    91\n",
      "3    92\n",
      "4    92\n",
      "5    96\n",
      "dtype: int32\n",
      "\n",
      "Minimum: 64\n",
      "Maximum: 96\n",
      "Mean: 86.66666666666667\n",
      "\n",
      "count     6.000000\n",
      "mean     86.666667\n",
      "std      11.656186\n",
      "min      64.000000\n",
      "25%      86.500000\n",
      "50%      91.500000\n",
      "75%      92.000000\n",
      "max      96.000000\n",
      "dtype: float64\n"
     ]
    }
   ],
   "source": [
    "import numpy as np\n",
    "import pandas as pd\n",
    "\n",
    "temps = np.random.randint(60, 101, 6)\n",
    "\n",
    "temperatures = pd.Series(temps)\n",
    "print(temperatures)\n",
    "print()\n",
    "minimum = temperatures.min()\n",
    "print(\"Minimum:\",minimum)\n",
    "\n",
    "maximum = temperatures.max()\n",
    "print(\"Maximum:\",maximum)\n",
    "\n",
    "average = temperatures.mean()\n",
    "print(\"Mean:\",average)\n",
    "print()\n",
    "described = temperatures.describe()\n",
    "print(described)\n"
   ]
  }
 ],
 "metadata": {
  "kernelspec": {
   "display_name": ".venv",
   "language": "python",
   "name": "python3"
  },
  "language_info": {
   "codemirror_mode": {
    "name": "ipython",
    "version": 3
   },
   "file_extension": ".py",
   "mimetype": "text/x-python",
   "name": "python",
   "nbconvert_exporter": "python",
   "pygments_lexer": "ipython3",
   "version": "3.11.4"
  },
  "orig_nbformat": 4
 },
 "nbformat": 4,
 "nbformat_minor": 2
}
